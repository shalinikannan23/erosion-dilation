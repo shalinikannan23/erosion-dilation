{
 "cells": [
  {
   "cell_type": "code",
   "execution_count": 4,
   "id": "261e5b2f-267b-4dad-b576-b79f73f2ab5d",
   "metadata": {},
   "outputs": [],
   "source": [
    "import cv2\n",
    "import numpy as np"
   ]
  },
  {
   "cell_type": "code",
   "execution_count": 5,
   "id": "575e4e54-51a3-4f20-bab3-52a8b512e3c3",
   "metadata": {},
   "outputs": [
    {
     "data": {
      "text/plain": [
       "-1"
      ]
     },
     "execution_count": 5,
     "metadata": {},
     "output_type": "execute_result"
    }
   ],
   "source": [
    "img1=np.zeros((100,500),dtype=\"uint8\")\n",
    "font=cv2.FONT_HERSHEY_PLAIN\n",
    "cv2.putText(img1,\"SHALINI K 212222240095\",(5,60),font,2,(255),5,cv2.LINE_AA)\n",
    "cv2.imshow(\"Original Image\",img1)\n",
    "cv2.waitKey(0)"
   ]
  },
  {
   "cell_type": "code",
   "execution_count": 6,
   "id": "12031625-4d82-4d96-8f0a-f70ec8a554c0",
   "metadata": {},
   "outputs": [],
   "source": [
    "kernel=np.ones((5,5),np.uint8)\n",
    "kernel1=cv2.getStructuringElement(cv2.MORPH_CROSS,(7,7))"
   ]
  },
  {
   "cell_type": "code",
   "execution_count": 7,
   "id": "266e24f3-8d5e-4e82-b40d-3d970b43c297",
   "metadata": {},
   "outputs": [
    {
     "data": {
      "text/plain": [
       "-1"
      ]
     },
     "execution_count": 7,
     "metadata": {},
     "output_type": "execute_result"
    }
   ],
   "source": [
    "cv2.erode(img1, kernel)\n",
    "image_erode = cv2.erode(img1,kernel1)\n",
    "cv2.imshow(\"Erode Image\",image_erode)\n",
    "cv2.waitKey(0)"
   ]
  },
  {
   "cell_type": "code",
   "execution_count": null,
   "id": "e215c991-e814-4ecc-bbb2-558747c77146",
   "metadata": {},
   "outputs": [],
   "source": [
    "image_dilatel=cv2.dilate(img1,kernel1)\n",
    "cv2.imshow(\"Dilate Image\",image_dilatel)\n",
    "cv2.waitKey(0)"
   ]
  },
  {
   "cell_type": "code",
   "execution_count": null,
   "id": "f6582279-c902-480e-83ab-ab2cbf03bf3a",
   "metadata": {},
   "outputs": [],
   "source": []
  }
 ],
 "metadata": {
  "kernelspec": {
   "display_name": "Python 3 (ipykernel)",
   "language": "python",
   "name": "python3"
  },
  "language_info": {
   "codemirror_mode": {
    "name": "ipython",
    "version": 3
   },
   "file_extension": ".py",
   "mimetype": "text/x-python",
   "name": "python",
   "nbconvert_exporter": "python",
   "pygments_lexer": "ipython3",
   "version": "3.11.7"
  }
 },
 "nbformat": 4,
 "nbformat_minor": 5
}
